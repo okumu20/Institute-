{
  "nbformat": 4,
  "nbformat_minor": 0,
  "metadata": {
    "colab": {
      "name": "group 56 Hackathon challenge ",
      "provenance": [],
      "authorship_tag": "ABX9TyMyg2IjsiWyJjDzNK6fsVFx",
      "include_colab_link": true
    },
    "kernelspec": {
      "name": "python3",
      "display_name": "Python 3"
    },
    "language_info": {
      "name": "python"
    }
  },
  "cells": [
    {
      "cell_type": "markdown",
      "metadata": {
        "id": "view-in-github",
        "colab_type": "text"
      },
      "source": [
        "<a href=\"https://colab.research.google.com/github/okumu20/Institute-/blob/main/group_56_Hackathon_challenge.ipynb\" target=\"_parent\"><img src=\"https://colab.research.google.com/assets/colab-badge.svg\" alt=\"Open In Colab\"/></a>"
      ]
    },
    {
      "cell_type": "code",
      "execution_count": null,
      "metadata": {
        "colab": {
          "base_uri": "https://localhost:8080/"
        },
        "id": "XJgjj_TOmaO4",
        "outputId": "8c166794-e16e-4d9b-d7ee-419a971db4e9"
      },
      "outputs": [
        {
          "output_type": "stream",
          "name": "stdout",
          "text": [
            "today date is:  2022-07-08\n",
            "current day is :  Fri\n",
            "bus_fare is :  100\n"
          ]
        }
      ],
      "source": [
        "# pythom program to get\n",
        "# current date\n",
        "# current day of the week\n",
        "# today's fare following the bus fare schedule \n",
        "\n",
        "# import date class from datetime module\n",
        "from datetime import date\n",
        "\n",
        "# returns the current local date\n",
        "today = date.today ()\n",
        "print(\"today date is: \" , today)\n",
        "\n",
        "# current day of the week\n",
        "current_day_of_the_week = str(\"Fri\")\n",
        "print(\"current day is : \" , current_day_of_the_week )\n",
        "\n",
        "bus_fare = str(\"Mon\" \"Tue\" \"Wed\" \"Thur\"\"Fri\" \"Sat\" \"sun\" );\n",
        "if bus_fare :\n",
        "  Mon = 100\n",
        "  Tue = 100\n",
        "  Wed = 100\n",
        "  Thur = 100\n",
        "  Fri = 100\n",
        "  Sat = 60\n",
        "  Sun = 80\n",
        "print(\"bus_fare is : \", Fri)\n",
        "\n",
        "\n",
        "\n",
        "\n",
        "\n"
      ]
    },
    {
      "cell_type": "code",
      "source": [
        "\n",
        "# Write a program that asks the user to enter the square feet of wall space to be painted and the price of the paint per gallon\n",
        "determined_wall_space = 115\n",
        "estemated_number_of_gallon = 1\n",
        "estemated_hours_of_labor = 8\n",
        "labor_charges_per_hour = 20.00\n",
        "\n",
        "square_feet_of_wall_space_to_painted = int(input(\"enter the square feet of wall space to be painted\"))\n",
        "price_of_paint_per_gallon = int(input(\"enter price of paint per gallon\"))\n",
        "\n",
        "number_of_gallon_required  = square_feet_of_wall_space_to_painted / determined_wall_space\n",
        "print(\"number of gallon require:\", number_of_gallon_required )\n",
        "\n",
        "hours_of_labor_required = square_feet_of_wall_space_to_painted * estemated_hours_of_labor / determined_wall_space\n",
        "print(\"hours of labor required:\",hours_of_labor_required )\n",
        "\n",
        "cost_of_paint = price_of_paint_per_gallon * number_of_gallon_required \n",
        "print(\"cost of paint:\", cost_of_paint)\n",
        "\n",
        "labor_charges = hours_of_labor_required * labor_charges_per_hour\n",
        "print(\"labor charges:\", labor_charges)\n",
        "\n",
        "total_cost_of_paint_job = cost_of_paint + labor_charges \n",
        "print(\"total cost of paint job:\", total_cost_of_paint_job)\n",
        "\n",
        "\n"
      ],
      "metadata": {
        "colab": {
          "base_uri": "https://localhost:8080/"
        },
        "id": "w3NGcWIbsjDt",
        "outputId": "ea332d76-d9ff-42ce-99a7-47655eb08b52"
      },
      "execution_count": 1,
      "outputs": [
        {
          "output_type": "stream",
          "name": "stdout",
          "text": [
            "enter the square feet of wall space to be painted  345\n",
            "enter price of paint per gallon  500\n",
            "number of gallon require: 3.0\n",
            "hours of labor required: 24.0\n",
            "cost of paint: 1500.0\n",
            "labor charges: 480.0\n",
            "total cost of paint job: 1980.0\n"
          ]
        }
      ]
    },
    {
      "cell_type": "code",
      "source": [
        "\n",
        "#program that asks the user to enter the number of books that he or she has \n",
        "#purchased this month and displays the number of points awarded\n",
        "\n",
        "#If a customer purchases 0 books, he or she earns 0 points. \n",
        "#If a customer purchases 1 book, he or she earns 6 points. \n",
        "#If a customer purchases 2 books, he or she earns 16 points.\n",
        "#If a customer purchases 3 books, he or she earns 32 points. \n",
        "#If a customer purchases 4 or more books, he or she earns 60 points. \n",
        "\n",
        "number_of_books_purchesed_this_month = int(input(\"enter number of books purchesed \"))\n",
        "if number_of_books_purchesed_this_month < 1 :\n",
        "  print(\"you earned 0 points\")\n",
        "elif number_of_books_purchesed_this_month < 2 :\n",
        "  print(\"you earned 6 points\")\n",
        "elif number_of_books_purchesed_this_month < 3 :\n",
        "  print(\"you earned 16 points\")\n",
        "elif number_of_books_purchesed_this_month < 4 :\n",
        "  print(\"you earned 32 points\")\n",
        "else :\n",
        "  print(\"you earned 60 points\")"
      ],
      "metadata": {
        "colab": {
          "base_uri": "https://localhost:8080/"
        },
        "id": "L_G2sUrhs8zQ",
        "outputId": "c935c809-afb4-43eb-bba6-64bf7ab111ce"
      },
      "execution_count": 2,
      "outputs": [
        {
          "output_type": "stream",
          "name": "stdout",
          "text": [
            "enter number of books purchesed   10\n",
            "you earned 60 points\n"
          ]
        }
      ]
    },
    {
      "cell_type": "code",
      "source": [
        "\n",
        "#Calories from Fat and Carbohydrates \n",
        "#A nutritionist who works for a fitness club \n",
        "#helps members by evaluating their diets. \n",
        "#As part of her evaluation, she asks members for the number of fat grams \n",
        "#and carbohydrate grams that they consumed in a day. \n",
        "#Then, she calculates the number of calories that result from the fat, \n",
        "#using the following formula: \n",
        "#Calories from fats fat grams * 9 \n",
        "#Next, she calculates the number of calories that \n",
        "#result from the carbohydrates, using the following formula: \n",
        "#Calories from carbs carb grams * 4 \n",
        "#The nutritionist asks you to write a program that will make these calculations.\n",
        "\n",
        "\n",
        "\n",
        "number_of_fat_grams = int(input(\"enter number of fat grams\"))\n",
        "number_of_carbohydrate_grams= int(input(\"enter number of carbohydrate grams\"))\n",
        "\n",
        "Calories_from_fats = number_of_fat_grams * 9\n",
        "print(\"calories from fat :\" ,Calories_from_fats)\n",
        "\n",
        "Calories_from_carbs = number_of_carbohydrate_grams * 4\n",
        "print(\"calories from carbs :\" ,Calories_from_carbs)\n",
        "\n",
        "total_number_of_calories_consumed = Calories_from_fats + Calories_from_carbs\n",
        "print(\"total number of calories consumed :\",total_number_of_calories_consumed ) \n",
        "\n",
        "\n"
      ],
      "metadata": {
        "colab": {
          "base_uri": "https://localhost:8080/"
        },
        "id": "OXR2VtLUtNkY",
        "outputId": "4c27bf22-f7f5-46da-ea88-427a8e6b2e70"
      },
      "execution_count": 3,
      "outputs": [
        {
          "output_type": "stream",
          "name": "stdout",
          "text": [
            "enter number of fat grams  50\n",
            "enter number of carbohydrate grams  40\n",
            "calories from fat : 450\n",
            "calories from carbs : 160\n",
            "total number of calories consumed : 610\n"
          ]
        }
      ]
    }
  ]
}